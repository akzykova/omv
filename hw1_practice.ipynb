{
  "cells": [
    {
      "cell_type": "markdown",
      "metadata": {
        "id": "FHzXXjOIRw0v"
      },
      "source": [
        "# Практическое домашнее задание 1. Поиск похожих изображений с помощью SVD."
      ]
    },
    {
      "cell_type": "markdown",
      "metadata": {
        "id": "7qx-mQsyRw0y"
      },
      "source": [
        "Версия от 08.02.2024."
      ]
    },
    {
      "cell_type": "markdown",
      "metadata": {
        "id": "94zuNR5zRw00"
      },
      "source": [
        "В этой задаче мы познакомимся с одним из возможных приложений сингулярного разложения — поиск \"хорошего\" базиса (eigenfaces) в наборе изображений и использования его для поиска похожих изображений.\n",
        "\n",
        "**Замечание:** пользоваться циклами по изображениям **запрещено**, если это явно не прописано в условии.\n",
        "\n",
        "Для этого сначала загрузим набор изображений, на котором будем обучаться. Это набор фотографий лиц, взятый с [сайта](http://vis-www.cs.umass.edu/lfw/) проекта \"Labeled faces in the wild\". Скачайте лица людей с именами, начинающимися на \"А\" и положите в папку `data/` в рабочей директории ноутбука.\n",
        "\n",
        "Импортируем необходимые библиотеки и загрузим картинки в виде numpy-массивов. "
      ]
    },
    {
      "cell_type": "code",
      "execution_count": null,
      "metadata": {
        "id": "eJ_1Fn_TRw03"
      },
      "outputs": [],
      "source": [
        "import matplotlib.pyplot as plt\n",
        "import PIL\n",
        "import tarfile\n",
        "import os\n",
        "import numpy as np\n",
        "\n",
        "def load_images(targz, size):\n",
        "    images = {}\n",
        "    tar = tarfile.open(targz, \"r:gz\")\n",
        "    for tarinfo in tar:\n",
        "        if tarinfo.isreg():\n",
        "            file = tar.extractfile(tarinfo)\n",
        "            image = PIL.Image.open(file)\n",
        "            image = image.convert(\"L\")\n",
        "            image = image.resize(size, PIL.Image.LANCZOS)\n",
        "            image = np.asarray(image, dtype=np.double)\n",
        "            image /= np.linalg.norm(image)\n",
        "            parts = os.path.normpath(tarinfo.name).split(os.path.sep)\n",
        "            images.setdefault(parts[-2], []).append(image)\n",
        "    return images"
      ]
    },
    {
      "cell_type": "code",
      "execution_count": null,
      "metadata": {
        "id": "ipM31E0ARw06"
      },
      "outputs": [],
      "source": [
        "size = 256\n",
        "images = load_images(\"data/lfw-a.tgz\", (size, size))"
      ]
    },
    {
      "cell_type": "code",
      "execution_count": null,
      "metadata": {
        "id": "aTf9BXFKRw06"
      },
      "outputs": [],
      "source": [
        "_ = plt.imshow(images[\"Aaron_Eckhart\"][0], cmap=\"gray\")"
      ]
    },
    {
      "cell_type": "markdown",
      "metadata": {
        "id": "8xjXSS6FRw08"
      },
      "source": [
        "Сразу отложим одно изображение для последующего поиска.\n",
        "\n"
      ]
    },
    {
      "cell_type": "code",
      "execution_count": null,
      "metadata": {
        "id": "d2-INA9QRw08"
      },
      "outputs": [],
      "source": [
        "test_image = images[\"Alejandro_Toledo\"][10]\n",
        "del images[\"Alejandro_Toledo\"][10]"
      ]
    },
    {
      "cell_type": "markdown",
      "metadata": {
        "id": "UsxgSloTRw09"
      },
      "source": [
        "### a. Применение базового алгоритма SVD (35 баллов)\n",
        "\n",
        "1. **(4 балла)** С помощью функции ```np.reshape(...)``` получите из словаря `images` массив ```M``` размера ```(size * size, nframes)```, каждым столбцом которого является изображение размера ```(size, size)```, представленное в виде вектора длины ```size**2``` (используйте такое значение параметра `order`, чтобы обходить картинки по столбцам).\n",
        "\n",
        "*В этом пункте (и только в этом) можно использовать цикл по изображениям.*"
      ]
    },
    {
      "cell_type": "code",
      "execution_count": null,
      "metadata": {
        "id": "L8Q70kSMRw0_"
      },
      "outputs": [],
      "source": [
        "M = # TO BE FILLED"
      ]
    },
    {
      "cell_type": "markdown",
      "metadata": {
        "id": "LQQeMVnFRw1B"
      },
      "source": [
        "2. **(10 баллов)** Вычислите сингулярное разложение матрицы ```M``` с помощью ```np.linalg.svd``` и постройте график сингулярных чисел, отсортированных по убыванию. Шкала с сингулярными числами должна быть логарифмической. Например, для этого можно использовать функцию ```plt.semilogy```.\n",
        " \n",
        "    **Замечание:** При построении графиков величин с отличающимися на порядки значениями полезно использовать логарифмическую шкалу. Чтобы убедиться в этом, попробуйте построить график не в логарифмической шкале; из него будет фактически невозможно понять характер убывания сингулярных чисел."
      ]
    },
    {
      "cell_type": "markdown",
      "metadata": {
        "id": "b0ChMmI0nHFj"
      },
      "source": [
        " 3. **(5 баллов)** Заполните пропуск в следующей функции, которая должна визуализировать вектор-столбцы нашей матрицы в виде таблицы. Затем с её помощью визуализируйте несколько первых сингулярных векторов. Опишите неформально, за что отвечают три старших сингулярных вектора."
      ]
    },
    {
      "cell_type": "code",
      "execution_count": null,
      "metadata": {
        "id": "854YyqBKRw1E"
      },
      "outputs": [],
      "source": [
        "def plot_as_images(mat, rows, cols):\n",
        "    '''\n",
        "        Visualize images from the columns of mat in a table of shape (rows, cols).\n",
        "\n",
        "        Input\n",
        "            mat: numpy array of shape (size * size, rows * cols)\n",
        "            rows: number of rows in the table\n",
        "            cols: number of columns in the table\n",
        "    '''\n",
        "    \n",
        "    fig, axes = plt.subplots(rows, cols, figsize=(cols*2,rows*2))\n",
        "    for i in range(rows):\n",
        "        for j in range(cols):\n",
        "            axes[i,j].imshow(mat[:,i*cols + j].reshape(......), cmap=\"gray\")\n",
        "            axes[i,j].get_xaxis().set_visible(False)\n",
        "            axes[i,j].get_yaxis().set_visible(False)"
      ]
    },
    {
      "cell_type": "markdown",
      "metadata": {
        "id": "HiQqjlTyRw1G"
      },
      "source": [
        "4. **(10 баллов)** Напишите функцию ```trunc_svd(M, r)```, которая вычисляет оптимальное приближение $M_{r}$ двумерного массива $M$ заданного ранга. Функция должна возвращать матрицы $U$ и $C$ такие, что столбцы матрицы $U$ составляют ортонормированный базис столбцов $M_{r}$, а $UC = M_{r}$. Также функция `trunc_svd` возвращает **относительную** точность приближения во Фробениусовой норме, т.е.\n",
        "$$\n",
        "    \\frac{\\|M - M_{r}\\|_F}{\\|M\\|_F}.\n",
        "$$\n",
        "Для вычисления относительной точности используйте только полученные из сингулярного разложения сингулярные числа."
      ]
    },
    {
      "cell_type": "code",
      "execution_count": null,
      "metadata": {
        "id": "bewHqan8Rw1H"
      },
      "outputs": [],
      "source": [
        "def trunc_svd(M, r):\n",
        "    '''\n",
        "        Input\n",
        "            M: original 2D numpy array\n",
        "            r: rank value for truncation\n",
        "            \n",
        "        Output\n",
        "            U: orthonormal basis of columns of Mr\n",
        "            C: coefficients in equality Mr = UC\n",
        "            rel_eps: relative error of rank-r approximation Mr\n",
        "    '''\n",
        "\n",
        "    # TO BE FILLED\n",
        "    \n",
        "    raise NotImplementedError()"
      ]
    },
    {
      "cell_type": "markdown",
      "metadata": {
        "id": "5LLia4g2mdtL"
      },
      "source": [
        "5. **(6 баллов)** Проверим работу написанной функции. Для этого воспользуемся функцией, которая рисует исходное изображение, приближение некоторого ранга, а также первые `count` сингулярных векторов в разложении вместе с их коэффициентами. Заполните пропуски в ней с помощью метода `reshape`."
      ]
    },
    {
      "cell_type": "code",
      "execution_count": null,
      "metadata": {
        "id": "inSoZcchRw1I"
      },
      "outputs": [],
      "source": [
        "def plot_as_combination(M, U, C, count, indices):\n",
        "    '''\n",
        "        Input\n",
        "            M: original 2D numpy array\n",
        "            U: orthonormal basis of columns of Mr\n",
        "            C: coefficients in equality Mr = UC\n",
        "            count: desired number of images of singular vectors\n",
        "            indices: indices of columns of M which are visualized\n",
        "    '''\n",
        "\n",
        "    fig, all_axes = plt.subplots(len(indices), count + 2, figsize=(count * 2, len(indices)*2))\n",
        "\n",
        "    for i, index in enumerate(indices):\n",
        "        axes = all_axes[i, :]\n",
        "\n",
        "        axes[0].imshow(......, cmap=\"gray\") # Original image\n",
        "        axes[0].set_xlabel(\"Orig\")\n",
        "\n",
        "        appr = U @ C[:, index]\n",
        "        axes[1].imshow(......, cmap=\"gray\") # Approximation image\n",
        "        axes[1].set_xlabel(\"Appr\")\n",
        "\n",
        "        for i in range(count):\n",
        "            axes[2 + i].imshow(......, cmap=\"gray\") # i-th singular vector image\n",
        "            axes[2 + i].set_xlabel(\"{:.7}\".format(C[i, index]))\n",
        "        \n",
        "        for ax in axes:\n",
        "            ax.set_xticks([])\n",
        "            ax.get_yaxis().set_visible(False)"
      ]
    },
    {
      "cell_type": "code",
      "execution_count": null,
      "metadata": {
        "id": "zVGQD5D5Rw1J"
      },
      "outputs": [],
      "source": [
        "U, C, eps = trunc_svd(M, 100)\n",
        "plot_as_combination(M, U, C, 7, range(10))"
      ]
    },
    {
      "cell_type": "markdown",
      "metadata": {
        "id": "ykV285SZRw1K"
      },
      "source": [
        "### b. Применение рандомизированного алгоритма SVD (35 баллов)"
      ]
    },
    {
      "cell_type": "markdown",
      "metadata": {
        "id": "vcIxtecVRw1K"
      },
      "source": [
        "Использование функции ```np.linalg.svd``` является эффективным для относительно небольших массивов из-за быстрого (кубического) роста сложности алгоритма в зависимости от размера матрицы. Используем рандомизированный алгоритм из лекций для ускорения вычислений."
      ]
    },
    {
      "cell_type": "markdown",
      "metadata": {
        "id": "webK4e2mRw1L"
      },
      "source": [
        "1. **(20 баллов)** Реализуйте рандомизированный алгоритм SVD из лекций, который аппроксимирует матрицу с заданным рангом $r$ (алгоритм запускается с ```r + p``` случайных векторов, после чего ранг обрезается до ```r``` с наименьшей ошибкой). Убедитесь, что вы **не вычисляете** в явном виде матрицу $QQ^*$."
      ]
    },
    {
      "cell_type": "code",
      "execution_count": null,
      "metadata": {
        "id": "MyfUwaEqRw1L"
      },
      "outputs": [],
      "source": [
        "def rand_svd(M, r, p=10):\n",
        "    '''\n",
        "        Input\n",
        "            M: 2D numpy array\n",
        "            r: rank value for truncation\n",
        "            p: number of extra random vectors to approximate range(M)\n",
        "\n",
        "        Output\n",
        "            Mr: 2D numpy array of rank r and of the same size as M\n",
        "            rel_eps: relative error of rank-r approximation Mr\n",
        "    '''\n",
        "    \n",
        "    # TO BE FILLED\n",
        "    \n",
        "    raise NotImplementedError()"
      ]
    },
    {
      "cell_type": "code",
      "execution_count": null,
      "metadata": {
        "id": "O1WCkh45Rw1M"
      },
      "outputs": [],
      "source": []
    },
    {
      "cell_type": "markdown",
      "metadata": {
        "id": "A3pZnMaMRw1M"
      },
      "source": [
        "2. **(10 баллов)** Постройте график функции\n",
        "$$\n",
        "\\frac{||M_{rand}(p) - M||_F}{||M_{SVD} - M||_F} - 1\n",
        "$$\n",
        "в зависимости от $p$ для $r=50$. По $p$ выберите сетку $[0, 100]$ с шагом 5.\n",
        "Так как $M_{rand}(p)$ получено с помощью рандомизированного алгоритма, усредните Ваш результат, запустив алгоритм 10 раз.\n",
        "При построении графика используйте логарифмическую шкалу."
      ]
    },
    {
      "cell_type": "code",
      "execution_count": null,
      "metadata": {
        "id": "x_ybzAxoRw1M"
      },
      "outputs": [],
      "source": []
    },
    {
      "cell_type": "markdown",
      "metadata": {
        "id": "ol6qwtZ2Rw1M"
      },
      "source": [
        "3. **(5 баллов)** С помощью ```%timeit``` сравните время расчета для ```trunc_svd``` и ```rand_svd``` для ранга $r = 50$. Во сколько раз рандомизированный алгоритм быстрее ```np.linalg.svd``` для матрицы ```M```?"
      ]
    },
    {
      "cell_type": "code",
      "execution_count": null,
      "metadata": {
        "id": "NklwSLRzRw1N"
      },
      "outputs": [],
      "source": []
    },
    {
      "cell_type": "markdown",
      "metadata": {
        "id": "zFyFGfHmRw1N"
      },
      "source": [
        "### c. Поиск нового изображения (30 баллов)"
      ]
    },
    {
      "cell_type": "markdown",
      "metadata": {
        "id": "02EoERhnRw1N"
      },
      "source": [
        "Представьте, что нам выдали новое изображение `new`, которого в нашей базе нет. Чтобы найти в базе похожие, можно посчитать норму разности с каждым имеющимся изображением. Для проверки напишем вспомогательную функцию, которая будет показывать подписанные картинки."
      ]
    },
    {
      "cell_type": "code",
      "execution_count": null,
      "metadata": {
        "id": "c6WozE3hRw1O"
      },
      "outputs": [],
      "source": [
        "def show_images(M, indices, names):\n",
        "    fig, axes = plt.subplots(1, len(indices), figsize=(len(indices)*3, 3))\n",
        "    for ax, index in zip(axes, indices):\n",
        "        ax.imshow(M[:,index].reshape((size, size), order=\"F\"), cmap=\"gray\")\n",
        "        ax.get_xaxis().set_ticks([])\n",
        "        ax.set_xlabel(names[index])\n",
        "        ax.get_yaxis().set_visible(False)"
      ]
    },
    {
      "cell_type": "markdown",
      "metadata": {
        "id": "gPgIVnMQj1Ek"
      },
      "source": [
        "   1. **(10 баллов)** Напишите функцию, находящее ближайшее во фробениусовой норме изображение."
      ]
    },
    {
      "cell_type": "code",
      "execution_count": null,
      "metadata": {
        "id": "MAUfmWefRw1O"
      },
      "outputs": [],
      "source": [
        "def get_closest_naive(M, new_v, count):\n",
        "    \"\"\"\n",
        "        Input\n",
        "            M: matrix of vectorized images\n",
        "            new_v: new image as a vector of shape (size**2,)\n",
        "            count: desired number of closest images\n",
        "            \n",
        "        Output\n",
        "            indices: list of count indices of closest images\n",
        "    \"\"\"\n",
        "    \n",
        "    raise NotImplementedError()"
      ]
    },
    {
      "cell_type": "markdown",
      "metadata": {
        "id": "_8h9-FqSkHTb"
      },
      "source": [
        "Проверим её на тестовом изображении. Как минимум один Алехандро Толедо должен найтись."
      ]
    },
    {
      "cell_type": "code",
      "execution_count": null,
      "metadata": {
        "id": "mcPcb7mxRw1P"
      },
      "outputs": [],
      "source": [
        "new = test_image\n",
        "_ = plt.imshow(new, cmap=\"gray\")"
      ]
    },
    {
      "cell_type": "code",
      "execution_count": null,
      "metadata": {
        "id": "MmgBdcWtRw1Q"
      },
      "outputs": [],
      "source": [
        "new_v = new.ravel(order=\"F\")\n",
        "names = sum(map(lambda item: [item[0]] * len(item[1]), images.items()), [])\n",
        "show_images(M, get_closest_naive(M, new_v, 5), names)"
      ]
    },
    {
      "cell_type": "markdown",
      "metadata": {
        "id": "u-O8vqgdRw1R"
      },
      "source": [
        "Помимо того, что такой подход может оказаться неприемлемым с точки зрения производительности, он также не устойчив:  например, изменение освещения или фона может очень сильно изменить норму разности.\n",
        "\n",
        "   2. **(20 баллов)** Применим подход, использующий SVD. Именно, спроецируем новое изображение на пространство, задаваемое ортонормированным базисом $U$, и будем сравнивать норму разности проекций. Причём для устойчивости к изменению освещения не будем учитывать первую компоненту в разложении по столбцам матрицы $U$. Напишите функцию `get_closest_proj`, которая возвращает индексы `count` изображений по описанному алгоритму."
      ]
    },
    {
      "cell_type": "code",
      "execution_count": null,
      "metadata": {
        "id": "S9NpzgxXRw1S"
      },
      "outputs": [],
      "source": [
        "def get_closest_proj(U, C, new_v, count):\n",
        "    \"\"\"\n",
        "        Input\n",
        "            U: orthonormal basis of columns of Mr\n",
        "            C: coefficients in equality Mr = UC\n",
        "            new_v: new image as a vector of shape (size**2,)\n",
        "            count: desired number of closest images\n",
        "            \n",
        "        Output\n",
        "            indices: list (of len `count`) of indices of closest images\n",
        "    \"\"\"\n",
        "\n",
        "    raise NotImplementedError()"
      ]
    },
    {
      "cell_type": "markdown",
      "metadata": {
        "id": "jgbJXog1mAjk"
      },
      "source": [
        "Проверим подход с SVD  том же тестовом изображении. Правильно реализованный метод должен найти как минимум два изображения Алехандро."
      ]
    },
    {
      "cell_type": "code",
      "execution_count": null,
      "metadata": {
        "id": "gRTdpwo0Rw1T"
      },
      "outputs": [],
      "source": [
        "show_images(M, get_closest_proj(U, C, new_v, 5), names)"
      ]
    },
    {
      "cell_type": "markdown",
      "metadata": {
        "id": "CIqMgTvK84PV"
      },
      "source": [
        "### c. Бонус\n",
        "\n",
        "В бонусной части мы познакомимся с более продвинутыми рандомизированными алгоритмами поиска сингулярного разложения. Условие заданий базируется на статье \n",
        "\n",
        "Halko, Nathan, Per-Gunnar Martinsson, and Joel A. Tropp. \"Finding structure with randomness: Probabilistic algorithms for constructing approximate matrix decompositions.\" SIAM review 53.2 (2011): 217-288.\n",
        "\n",
        "**Ссылка на статью**: http://users.cms.caltech.edu/~jtropp/papers/HMT11-Finding-Structure-SIREV.pdf\n",
        "\n",
        "1. **(50 б. баллов)** Докажите, что в точной арифметике результат, полученный при использовании Алгоритма 4.3 и 4.4 из статьи, указанной выше, совпадают. Все теоретические выкладки приведите в текущем файле с использованием Markdown или прикрепите качественное изображение рукописного текста.\n",
        "\n",
        "2. **(50 б. баллов)** Реализуйте Алгоритм 4.4 и используйте его для построения приближенного сингулярного разложения матрицы A на матрице из этой ДЗ. Зафиксируйте ранги $r=5, 20, 50$. Для каждого из этих значений на одном рисунке постройте график зависимости нормы (на выбор) разности полученного приближения и оптимального приближения (в выбранной норме) того же ранга от числа q."
      ]
    },
    {
      "cell_type": "code",
      "execution_count": null,
      "metadata": {
        "id": "d2_cfo-y89jC"
      },
      "outputs": [],
      "source": []
    }
  ],
  "metadata": {
    "colab": {
      "collapsed_sections": [],
      "name": "hw1_practice_fmatcomp22.ipynb",
      "provenance": []
    },
    "kernelspec": {
      "display_name": "Python 3",
      "language": "python",
      "name": "python3"
    },
    "language_info": {
      "codemirror_mode": {
        "name": "ipython",
        "version": 3
      },
      "file_extension": ".py",
      "mimetype": "text/x-python",
      "name": "python",
      "nbconvert_exporter": "python",
      "pygments_lexer": "ipython3",
      "version": "3.8.10"
    }
  },
  "nbformat": 4,
  "nbformat_minor": 0
}
